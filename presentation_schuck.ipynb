{
 "cells": [
  {
   "cell_type": "markdown",
   "id": "c7aa117b",
   "metadata": {
    "slideshow": {
     "slide_type": "slide"
    }
   },
   "source": [
    "# Aufgaben\n",
    "\n",
    "\n",
    "\n",
    "\n",
    "\n",
    "Elias Schuck"
   ]
  },
  {
   "cell_type": "code",
   "execution_count": 1,
   "id": "4e70fb69",
   "metadata": {},
   "outputs": [],
   "source": [
    "import pandas as pd  \n",
    "import matplotlib.pyplot as plt \n",
    "import seaborn as sns \n",
    "import plotly.express as px\n",
    "import statsmodels.formula.api as smf"
   ]
  },
  {
   "cell_type": "markdown",
   "id": "1d5466c7",
   "metadata": {
    "slideshow": {
     "slide_type": "slide"
    }
   },
   "source": [
    "## Aufgabe 6\n",
    "**Haben mehr Frauen oder mehr Männer unsere Autos gekauft?**\n"
   ]
  },
  {
   "cell_type": "code",
   "execution_count": 2,
   "id": "f5e5a5f8",
   "metadata": {
    "scrolled": true,
    "slideshow": {
     "slide_type": "fragment"
    }
   },
   "outputs": [
    {
     "name": "stdout",
     "output_type": "stream",
     "text": [
      "Absolute Anzahl weiblicher Kunden :398\n",
      "Absolute Anzahl männlicher Kunden :706\n"
     ]
    },
    {
     "data": {
      "image/png": "[encoded data removed]",
      "text/plain": [
       "<Figure size 640x480 with 1 Axes>"
      ]
     },
     "metadata": {},
     "output_type": "display_data"
    }
   ],
   "source": [
    "df = pd.read_csv(\"data/df_final.csv\")\n",
    "df_käufer = df[df[\"Preis\"] > 0]\n",
    "df_käufer\n",
    "df_käufer_w = df_käufer[df_käufer['Geschlecht']==0]\n",
    "anzahl_kunden_w = df_käufer_w['Geschlecht'].count()\n",
    "print('Absolute Anzahl weiblicher Kunden :' +str(anzahl_kunden_w))\n",
    "df_käufer_m = df_käufer[df_käufer['Geschlecht']==1]\n",
    "anzahl_kunden_m = df_käufer_m['Geschlecht'].count()\n",
    "print('Absolute Anzahl männlicher Kunden :' +str(anzahl_kunden_m))\n",
    "x = [anzahl_kunden_m/(anzahl_kunden_m+anzahl_kunden_w), anzahl_kunden_w/(anzahl_kunden_m+anzahl_kunden_w)]\n",
    "y = ['Anzahl männlicher Kunden', 'Anzahl weiblicher Kunden']\n",
    "plt.pie(x, labels = y, autopct='%1.1f%%')\n",
    "plt.title(\"Verteilung der Kunden nach Geschlecht\")\n",
    "plt.show()"
   ]
  },
  {
   "cell_type": "markdown",
   "id": "72eca578",
   "metadata": {
    "slideshow": {
     "slide_type": "slide"
    }
   },
   "source": [
    "## Aufgabe 7\n",
    "**Wie hoch ist das Durchschnittsalter unserer Kunden?**\n",
    "<p>df_käufer[\"Alter\"].mean().round(2)</p>\n",
    "<p>50.38</p>"
   ]
  },
  {
   "cell_type": "markdown",
   "id": "07018045",
   "metadata": {
    "slideshow": {
     "slide_type": "slide"
    }
   },
   "source": [
    "## Aufgabe 8\n",
    "**Wie hoch ist das Durchschnittsalter der Besucher in unseren Showrooms?**\n",
    "\n",
    "<p> Zunächst werden die Besucher von den Käufern isoliert (Kaufpreis = 0) </p>\n",
    "<p> df_besucher = df[df['Preis']==0] </p>\n",
    "Nun kann das Durchsnittsalter der Besucher errechnet werden:\n",
    "\n",
    "df_besucher['Alter'].mean().round(2)\n",
    "\n",
    "49.88\n"
   ]
  },
  {
   "cell_type": "markdown",
   "id": "4823194e",
   "metadata": {
    "slideshow": {
     "slide_type": "slide"
    }
   },
   "source": [
    "## Aufgabe 9\n",
    "**Was ist das Durchschnittsalter unserer männlichen Kunden?**\n",
    "\n",
    "<p> df_käufer_m['Alter'].mean().round(2) </p>\n",
    "<p> 50.47 </p>"
   ]
  },
  {
   "cell_type": "markdown",
   "id": "a3e5bcfb",
   "metadata": {
    "slideshow": {
     "slide_type": "slide"
    }
   },
   "source": [
    "## Aufgabe 13\n",
    "**Wie viele Kunden haben keinen Kredit bei der Bank genommen, um das Auto zu kaufen? Die Kundenabteilung hat vergessen, diese Informationen zu sammeln. Wir können davon ausgehen, dass die Kunden mit einem Jahreseinkommen, das höher als der Autopreis ist, keinen Bankkredit benötigten**"
   ]
  },
  {
   "cell_type": "markdown",
   "id": "f6b7899d",
   "metadata": {
    "slideshow": {
     "slide_type": "fragment"
    }
   },
   "source": [
    "Der dataframe wird so mainpuliert, dass nur die Datensätze enthalten bleiben, für die zutrifft, dass das Einkommen des Kunden größer als der gezahlte Preis des Autos ist:\n",
    "\n",
    "df_käufer_kein_kredit = df_käufer[df_käufer['Einkommen'] > df_käufer['Preis']]\n",
    "\n",
    "df_käufer_kein_kredit"
   ]
  },
  {
   "cell_type": "code",
   "execution_count": 3,
   "id": "69002fad",
   "metadata": {
    "slideshow": {
     "slide_type": "subslide"
    }
   },
   "outputs": [
    {
     "name": "stdout",
     "output_type": "stream",
     "text": [
      "     Alter  Einkommen     Preis  Geschlecht  Zeit KundeNr        Niederlassung\n",
      "157     32    50330.0  49540.28         1.0  27.0   K0175               Bayern\n",
      "407     34    24264.0  22580.44         1.0  19.0   K0859               Berlin\n",
      "499     37    54403.0  53690.36         0.0  47.0   K0364          Brandenburg\n",
      "642     32    30856.0  27934.83         1.0  18.0   K0447  Nordrhein-Westfalen\n",
      "696     31    36296.0  35482.61         0.0  31.0   K0143  Nordrhein-Westfalen\n"
     ]
    }
   ],
   "source": [
    "df_käufer_kein_kredit = df_käufer[df_käufer['Einkommen'] > df_käufer['Preis']]\n",
    "\n",
    "print(df_käufer_kein_kredit)\n",
    "\n",
    "prozentuale_vert = df_käufer_kein_kredit['Alter'].count()/df_käufer['Alter'].count()"
   ]
  },
  {
   "cell_type": "code",
   "execution_count": 4,
   "id": "1a2f93f2",
   "metadata": {
    "slideshow": {
     "slide_type": "subslide"
    }
   },
   "outputs": [
    {
     "name": "stdout",
     "output_type": "stream",
     "text": [
      "Prozentuales Verhältnis Kunden ohne Kredit zu Kunden Gesamt : 0.5%\n"
     ]
    }
   ],
   "source": [
    "print('Prozentuales Verhältnis Kunden ohne Kredit zu Kunden Gesamt : ' + str(prozentuale_vert.round(3)*100) +'%')"
   ]
  },
  {
   "cell_type": "markdown",
   "id": "c9cc77bf",
   "metadata": {
    "slideshow": {
     "slide_type": "subslide"
    }
   },
   "source": [
    "* Es gibt also 5 Kunden die keinen Kredit Aufgenommen haben um das Auto zu kaufen.\n",
    "* Diese 5 Kunden entsprechen etwa 0.5% der gesamten Kundschaft"
   ]
  },
  {
   "cell_type": "markdown",
   "id": "2b963d1c",
   "metadata": {
    "slideshow": {
     "slide_type": "slide"
    }
   },
   "source": [
    "## Aufgabe 17\n",
    "\n",
    "**Schätzen Sie eine Regression, die die Wahrscheinlichkeit des Kaufs eines Autos ermittelt. Verwenden Sie die entsprechende Methode**"
   ]
  },
  {
   "cell_type": "markdown",
   "id": "3b67d9d4",
   "metadata": {},
   "source": [
    "Die Kaufwahrscheinlichkeit wird beeinflusst durch Folgende Faktoren:\n",
    "\n",
    "* Alter\n",
    "\n",
    "* Geschlecht\n",
    "\n",
    "* Einkommen\n",
    "\n",
    "* Zeit\n",
    "\n",
    "Diese bilden die unabhängigen Variablen, welche mit einer logistischen Regression analysiert werden sollen.\n",
    "\n",
    "* Zunächst wird die Spalte 'Gekauft' als abhängige Variable eingeführt, um zu messen ob der Kunde das  Auto gekauft hat wobei 1 gekauft und 0 nicht gekauft bedeutet\n"
   ]
  },
  {
   "cell_type": "code",
   "execution_count": 5,
   "id": "4bc753c9",
   "metadata": {
    "slideshow": {
     "slide_type": "subslide"
    }
   },
   "outputs": [
    {
     "name": "stdout",
     "output_type": "stream",
     "text": [
      "   Alter  Einkommen      Preis  Geschlecht  Zeit KundeNr      Niederlassung  \\\n",
      "0     64    66894.0   88160.31         1.0  43.0   K0310             Bayern   \n",
      "1     54    77644.0  103145.70         1.0  40.0   K1042             Berlin   \n",
      "2     55    44341.0   80565.16         0.0  37.0   K0382  Baden-Württemberg   \n",
      "3     49    67271.0   83949.89         0.0  42.0   K0498             Bayern   \n",
      "4     46    49832.0   93781.58         0.0  41.0   K0552             Hessen   \n",
      "\n",
      "   Gekauft  \n",
      "0        1  \n",
      "1        1  \n",
      "2        1  \n",
      "3        1  \n",
      "4        1  \n"
     ]
    }
   ],
   "source": [
    "df_gekauft = df[['Preis']]>0\n",
    "\n",
    "df_gekauft.columns = ['Gekauft']\n",
    "\n",
    "df_gekauft_int = df_gekauft[[\"Gekauft\"]].astype(int)\n",
    "\n",
    "df_linear_regression = pd.concat([df, df_gekauft_int], axis = 1)\n",
    "\n",
    "print(df_linear_regression.head())"
   ]
  },
  {
   "cell_type": "markdown",
   "id": "86946c04",
   "metadata": {
    "slideshow": {
     "slide_type": "subslide"
    }
   },
   "source": [
    "Da nun alle benötigten Daten in dem Dataframe df_linear_regression vorhanden sind, kann die lineare Regression mit der abhängigen Variable 'Gekauft' und den unabhängigen Variablen 'Alter', 'Geschlecht', 'Einkommen' sowie 'Zeit' durchgeführt werden:\n",
    " <p> reg1 = smf.logit('Gekauft ~ Alter + Geschlecht + Einkommen + Zeit', data=df_linear_regression).fit() </p>\n",
    "\n",
    "Dies führt zu folgendem Ergebnis :"
   ]
  },
  {
   "cell_type": "code",
   "execution_count": 6,
   "id": "3cc411b9",
   "metadata": {
    "slideshow": {
     "slide_type": "fragment"
    }
   },
   "outputs": [
    {
     "name": "stdout",
     "output_type": "stream",
     "text": [
      "Optimization terminated successfully.\n",
      "         Current function value: 0.579019\n",
      "         Iterations 6\n",
      "                           Logit Regression Results                           \n",
      "==============================================================================\n",
      "Dep. Variable:                Gekauft   No. Observations:                 1995\n",
      "Model:                          Logit   Df Residuals:                     1990\n",
      "Method:                           MLE   Df Model:                            4\n",
      "Date:                Tue, 02 Jan 2024   Pseudo R-squ.:                  0.1577\n",
      "Time:                        08:48:19   Log-Likelihood:                -1155.1\n",
      "converged:                       True   LL-Null:                       -1371.4\n",
      "Covariance Type:            nonrobust   LLR p-value:                 2.522e-92\n",
      "==============================================================================\n",
      "                 coef    std err          z      P>|z|      [0.025      0.975]\n",
      "------------------------------------------------------------------------------\n",
      "Intercept     -2.4436      0.263     -9.275      0.000      -2.960      -1.927\n",
      "Alter          0.0181      0.007      2.638      0.008       0.005       0.032\n",
      "Geschlecht     0.2464      0.103      2.393      0.017       0.045       0.448\n",
      "Einkommen  -4.215e-05   5.43e-06     -7.762      0.000   -5.28e-05   -3.15e-05\n",
      "Zeit           0.1022      0.006     17.529      0.000       0.091       0.114\n",
      "==============================================================================\n"
     ]
    }
   ],
   "source": [
    "reg1 = smf.logit('Gekauft ~ Alter + Geschlecht + Einkommen + Zeit', data=df_linear_regression).fit()\n",
    "print(reg1.summary())"
   ]
  },
  {
   "cell_type": "markdown",
   "id": "4308fa14",
   "metadata": {
    "slideshow": {
     "slide_type": "slide"
    }
   },
   "source": [
    "## Aufgabe 18\n",
    "\n",
    "**Wie hoch ist die Wahrscheinlichkeit, dass ein 32-jähriger männlicher Kunde mit einem Einkommen von 30.000 Euro, der das Auto 30 Minuten lang getestet hat, eines unserer Modelle kauft? Wie hoch ist die Wahrscheinlichkeit, dass ein 51-jähriger männlicher Kunde mit einem Einkommen von 54.000 Euro, der das Auto 45 Minuten lang getestet hat, eines unserer Modelle kauft?**"
   ]
  },
  {
   "cell_type": "code",
   "execution_count": 7,
   "id": "ecaf9fb8",
   "metadata": {
    "slideshow": {
     "slide_type": "fragment"
    }
   },
   "outputs": [],
   "source": [
    "from statsmodels.api import add_constant"
   ]
  },
  {
   "cell_type": "markdown",
   "id": "3f08edf4",
   "metadata": {
    "slideshow": {
     "slide_type": "fragment"
    }
   },
   "source": [
    "Zunächst wird ein Datframe erzeugt, der die Ausprägungen der unabhängigen Variablen für die zwei zu prognostizierenden Fälle enthält.\n",
    "\n",
    "* Index 0: 32-jähriger männlicher Kunde mit einem Einkommen von 30.000 Euro, der das Auto 30 Minuten lang getestet hat\n",
    "\n",
    "* Index 1: 51-jähriger männlicher Kunde mit einem Einkommen von 54.000 Euro, der das Auto 45 Minuten lang getestet hat"
   ]
  },
  {
   "cell_type": "code",
   "execution_count": 8,
   "id": "bd1a4a41",
   "metadata": {
    "slideshow": {
     "slide_type": "fragment"
    }
   },
   "outputs": [
    {
     "name": "stdout",
     "output_type": "stream",
     "text": [
      "   const  Alter  Einkommen  Geschlecht  Zeit\n",
      "0    1.0     32      30000           1    30\n",
      "1    1.0     51      54000           1    45\n"
     ]
    }
   ],
   "source": [
    "Prognose = pd.DataFrame({\n",
    "    'Alter': [32, 51],           \n",
    "    'Einkommen': [30000, 54000],\n",
    "    'Geschlecht' : [1, 1],\n",
    "    'Zeit' : [30, 45]\n",
    "})\n",
    "Prognose = add_constant(Prognose, has_constant='add')\n",
    "print(Prognose)"
   ]
  },
  {
   "cell_type": "markdown",
   "id": "1c22078e",
   "metadata": {
    "slideshow": {
     "slide_type": "subslide"
    }
   },
   "source": [
    "Anschließend wird die Prognose durchgeführt: \n",
    "\n",
    "Prognostizierte_Wahrscheinlichkeiten = reg1.predict(Prognose)\n",
    "print(Prognostizierte_Wahrscheinlichkeiten*100)"
   ]
  },
  {
   "cell_type": "code",
   "execution_count": 9,
   "id": "1d635732",
   "metadata": {},
   "outputs": [
    {
     "name": "stdout",
     "output_type": "stream",
     "text": [
      "0    54.562119\n",
      "1    74.039605\n",
      "dtype: float64\n"
     ]
    }
   ],
   "source": [
    "Prognostizierte_Wahrscheinlichkeiten = reg1.predict(Prognose)\n",
    "print(Prognostizierte_Wahrscheinlichkeiten*100)"
   ]
  },
  {
   "cell_type": "markdown",
   "id": "5ec11c96",
   "metadata": {},
   "source": [
    "* Die Wahrscheinlichkeit, dass ein 32-jähriger männlicher Kunde mit einem Einkommen von 30.000 Euro, der das Auto 30 Minuten lang getestet hat, eines unserer Modelle kauft beträgt 54,6 %\n",
    "* Die Wahrscheinlichkeit, dass ein 51-jähriger männlicher Kunde mit einem Einkommen von 54.000 Euro, der das Auto 45 Minuten lang getestet hat, eines unserer Modelle kauft beträgt 74 %"
   ]
  },
  {
   "cell_type": "code",
   "execution_count": null,
   "id": "947a9986",
   "metadata": {},
   "outputs": [],
   "source": []
  }
 ],
 "metadata": {
  "celltoolbar": "Slideshow",
  "kernelspec": {
   "display_name": "Python 3 (ipykernel)",
   "language": "python",
   "name": "python3"
  },
  "language_info": {
   "codemirror_mode": {
    "name": "ipython",
    "version": 3
   },
   "file_extension": ".py",
   "mimetype": "text/x-python",
   "name": "python",
   "nbconvert_exporter": "python",
   "pygments_lexer": "ipython3",
   "version": "3.11.5"
  }
 },
 "nbformat": 4,
 "nbformat_minor": 5
}
